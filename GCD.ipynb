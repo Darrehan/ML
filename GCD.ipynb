{
  "nbformat": 4,
  "nbformat_minor": 0,
  "metadata": {
    "colab": {
      "provenance": [],
      "toc_visible": true,
      "authorship_tag": "ABX9TyM2uUteouLUL2kXmhXzeeFB",
      "include_colab_link": true
    },
    "kernelspec": {
      "name": "python3",
      "display_name": "Python 3"
    },
    "language_info": {
      "name": "python"
    }
  },
  "cells": [
    {
      "cell_type": "markdown",
      "metadata": {
        "id": "view-in-github",
        "colab_type": "text"
      },
      "source": [
        "<a href=\"https://colab.research.google.com/github/Darrehan/ML/blob/main/GCD.ipynb\" target=\"_parent\"><img src=\"https://colab.research.google.com/assets/colab-badge.svg\" alt=\"Open In Colab\"/></a>"
      ]
    },
    {
      "cell_type": "code",
      "execution_count": 6,
      "metadata": {
        "colab": {
          "base_uri": "https://localhost:8080/"
        },
        "id": "GL99s2hkWxpN",
        "outputId": "71d0c31a-aeda-4b3f-a43d-2d4facca9e90"
      },
      "outputs": [
        {
          "output_type": "stream",
          "name": "stdout",
          "text": [
            "Enter the value of the first number \n",
            "14\n",
            "Enter the value of the second number \n",
            "63\n",
            "The GCD of 14 and 63 is: 7\n"
          ]
        }
      ],
      "source": [
        "# Input values\n",
        "x = int(input(\"Enter the value of the first number \\n\"))\n",
        "y = int(input(\"Enter the value of the second number \\n\"))\n",
        "\n",
        "# GCD function\n",
        "def gcd(x, y):\n",
        "    fx = []\n",
        "    for i in range(1, x + 1):\n",
        "        if x % i == 0:\n",
        "            fx.append(i)\n",
        "\n",
        "    fy = []\n",
        "    for j in range(1, y + 1):\n",
        "        if y % j == 0:\n",
        "            fy.append(j)\n",
        "\n",
        "    fc = []\n",
        "    for f in fx:\n",
        "        if f in fy:\n",
        "            fc.append(f)\n",
        "\n",
        "    return fc[-1]  # Return the last common factor (greatest common divisor)\n",
        "\n",
        "# Call the function and print the result\n",
        "result = gcd(x, y)\n",
        "print(\"The GCD of\", x, \"and\", y, \"is:\", result)"
      ]
    },
    {
      "cell_type": "markdown",
      "source": [
        "Program for computing GCD"
      ],
      "metadata": {
        "id": "yZ4rkDDVbyRy"
      }
    }
  ]
}